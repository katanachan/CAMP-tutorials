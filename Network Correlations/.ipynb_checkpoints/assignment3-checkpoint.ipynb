{
 "cells": [
  {
   "cell_type": "code",
   "execution_count": 7,
   "metadata": {
    "collapsed": false
   },
   "outputs": [],
   "source": [
    "import numpy as np\n",
    "import pylab as pl\n",
    "from network_correlations import *\n",
    "% matplotlib inline"
   ]
  },
  {
   "cell_type": "code",
   "execution_count": 8,
   "metadata": {
    "collapsed": false
   },
   "outputs": [
    {
     "data": {
      "text/plain": [
       "(5, 20)"
      ]
     },
     "execution_count": 8,
     "metadata": {},
     "output_type": "execute_result"
    },
    {
     "data": {
      "image/png": "[encoded data removed]",
      "text/plain": [
       "<matplotlib.figure.Figure at 0x7ff3e8137250>"
      ]
     },
     "metadata": {},
     "output_type": "display_data"
    }
   ],
   "source": [
    "'''\n",
    "1)  Plot the rates of neuron 1 and neuron 2 together using the provided code. What \n",
    "happens when you induce correlations?\n",
    "'''\n",
    "#Pooling causes increas in correlation (Rosenbaum et al, 2010)\n",
    "#Cancellation occurs due to synchronous current components\n",
    "#Temporal integration occurs due to weakly asynchronous total currents and the neuron ends up losing correlations \n",
    "stimulus1 = -np.pi/4\n",
    "stimulus2 = 5./16*np.pi\n",
    "phi_pref1 = 0.      # preferred orientation of neuron 1\n",
    "phi_pref2 = np.pi/4 # preferred orientation of neuron 2\n",
    "c=.9              # correlation between background inputs to the neurons\n",
    "    \n",
    " \n",
    "outputrate=orientation_tuning(phi_pref1, phi_pref2, stimulus1, c)\n",
    "outputrate2=orientation_tuning(phi_pref1, phi_pref2, stimulus2, c)\n",
    "\n",
    "pl.figure()\n",
    "pl.title('Stimulus response')\n",
    "pl.scatter(outputrate[0,:],outputrate[1,:],edgecolor='none',alpha=0.25)\n",
    "pl.scatter(outputrate2[0,:],outputrate2[1,:],edgecolor='none',facecolor='r',alpha=0.25)\n",
    "pl.xlabel(r'$\\nu_1$')\n",
    "pl.ylabel(r'$\\nu_2$')\n",
    "pl.xlim([5,20])\n",
    "pl.ylim([5,20])\n",
    "\n",
    "#When it spreads out, there are positive correlations within the group"
   ]
  },
  {
   "cell_type": "code",
   "execution_count": 9,
   "metadata": {
    "collapsed": false
   },
   "outputs": [
    {
     "data": {
      "text/plain": [
       "'\\n2) Try different combinations of stimuli and preferred orientation and check how \\nnoise correlations affect the separability of the output firing rates.\\n'"
      ]
     },
     "execution_count": 9,
     "metadata": {},
     "output_type": "execute_result"
    }
   ],
   "source": [
    "'''\n",
    "2) Try different combinations of stimuli and preferred orientation and check how \n",
    "noise correlations affect the separability of the output firing rates.\n",
    "'''\n"
   ]
  },
  {
   "cell_type": "code",
   "execution_count": 10,
   "metadata": {
    "collapsed": false
   },
   "outputs": [
    {
     "data": {
      "text/plain": [
       "'\\n3) How does the difference between prefered orientations relate to signal correlations?\\n'"
      ]
     },
     "execution_count": 10,
     "metadata": {},
     "output_type": "execute_result"
    }
   ],
   "source": [
    "'''\n",
    "3) How does the difference between prefered orientations relate to signal correlations?\n",
    "'''"
   ]
  }
 ],
 "metadata": {
  "kernelspec": {
   "display_name": "Python [Root]",
   "language": "python",
   "name": "Python [Root]"
  },
  "language_info": {
   "codemirror_mode": {
    "name": "ipython",
    "version": 2
   },
   "file_extension": ".py",
   "mimetype": "text/x-python",
   "name": "python",
   "nbconvert_exporter": "python",
   "pygments_lexer": "ipython2",
   "version": "2.7.11"
  }
 },
 "nbformat": 4,
 "nbformat_minor": 0
}
